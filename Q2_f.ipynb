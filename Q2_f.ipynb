{
 "cells": [
  {
   "cell_type": "markdown",
   "id": "7197ff0d",
   "metadata": {},
   "source": [
    "# Find all the eigenpairs of A"
   ]
  },
  {
   "cell_type": "code",
   "execution_count": 1,
   "id": "672ca98e",
   "metadata": {},
   "outputs": [],
   "source": [
    "import numpy as np\n",
    "from numpy.linalg import eig\n",
    "from sympy import *"
   ]
  },
  {
   "cell_type": "code",
   "execution_count": 2,
   "id": "294c969d",
   "metadata": {},
   "outputs": [
    {
     "data": {
      "text/latex": [
       "$\\displaystyle \\left[\\begin{matrix}11 & 3 & 5\\\\6 & 8 & 9\\\\2 & 23 & 4\\end{matrix}\\right]$"
      ],
      "text/plain": [
       "Matrix([\n",
       "[11,  3, 5],\n",
       "[ 6,  8, 9],\n",
       "[ 2, 23, 4]])"
      ]
     },
     "execution_count": 2,
     "metadata": {},
     "output_type": "execute_result"
    }
   ],
   "source": [
    "matrix=open(\"matrix.csv\")\n",
    "A=np.loadtxt(matrix, dtype='int', delimiter=',')\n",
    "A1=Matrix(A)\n",
    "A1"
   ]
  },
  {
   "cell_type": "markdown",
   "id": "04986b01",
   "metadata": {},
   "source": [
    "# EIGEN VALUES"
   ]
  },
  {
   "cell_type": "code",
   "execution_count": 3,
   "id": "e06194ad",
   "metadata": {},
   "outputs": [],
   "source": [
    "EigenValues,EigenVector=eig(A)"
   ]
  },
  {
   "cell_type": "code",
   "execution_count": 4,
   "id": "874a1ad0",
   "metadata": {},
   "outputs": [
    {
     "name": "stdout",
     "output_type": "stream",
     "text": [
      "\n",
      " Eigen-value: \n",
      " [23.61635531  7.21105817 -7.82741348]\n"
     ]
    }
   ],
   "source": [
    "print(\"\\n Eigen-value: \\n\", EigenValues)"
   ]
  },
  {
   "cell_type": "markdown",
   "id": "dc5c5a8c",
   "metadata": {},
   "source": [
    "### Proper Matrix Format Output"
   ]
  },
  {
   "cell_type": "code",
   "execution_count": 5,
   "id": "115a3176",
   "metadata": {},
   "outputs": [
    {
     "data": {
      "text/latex": [
       "$\\displaystyle \\left[\\begin{matrix}23.6163553109334\\\\7.21105817316263\\\\-7.82741348409609\\end{matrix}\\right]$"
      ],
      "text/plain": [
       "Matrix([\n",
       "[ 23.6163553109334],\n",
       "[ 7.21105817316263],\n",
       "[-7.82741348409609]])"
      ]
     },
     "execution_count": 5,
     "metadata": {},
     "output_type": "execute_result"
    }
   ],
   "source": [
    "EVal=Matrix(EigenValues)\n",
    "EVal"
   ]
  },
  {
   "cell_type": "markdown",
   "id": "1ec9775a",
   "metadata": {},
   "source": [
    "# EIGEN VECTOR"
   ]
  },
  {
   "cell_type": "code",
   "execution_count": 6,
   "id": "b75a74c8",
   "metadata": {},
   "outputs": [
    {
     "name": "stdout",
     "output_type": "stream",
     "text": [
      "\n",
      " E-vector \n",
      " [[-0.41636004 -0.82887517 -0.1644141 ]\n",
      " [-0.56876957  0.14741879 -0.43974485]\n",
      " [-0.7093275   0.53966068  0.88294534]]\n"
     ]
    }
   ],
   "source": [
    "print(\"\\n E-vector \\n\", EigenVector)"
   ]
  },
  {
   "cell_type": "markdown",
   "id": "b44d827f",
   "metadata": {},
   "source": [
    "### Proper Matrix Format Output"
   ]
  },
  {
   "cell_type": "code",
   "execution_count": 7,
   "id": "a0555b9d",
   "metadata": {},
   "outputs": [
    {
     "data": {
      "text/latex": [
       "$\\displaystyle \\left[\\begin{matrix}-0.416360038534106 & -0.828875168798118 & -0.164414096150051\\\\-0.568769569438257 & 0.147418790871596 & -0.43974484541052\\\\-0.709327495021092 & 0.539660684734257 & 0.882945341412502\\end{matrix}\\right]$"
      ],
      "text/plain": [
       "Matrix([\n",
       "[-0.416360038534106, -0.828875168798118, -0.164414096150051],\n",
       "[-0.568769569438257,  0.147418790871596,  -0.43974484541052],\n",
       "[-0.709327495021092,  0.539660684734257,  0.882945341412502]])"
      ]
     },
     "execution_count": 7,
     "metadata": {},
     "output_type": "execute_result"
    }
   ],
   "source": [
    "EVec=Matrix(EigenVector)\n",
    "EVec"
   ]
  }
 ],
 "metadata": {
  "kernelspec": {
   "display_name": "Python 3 (ipykernel)",
   "language": "python",
   "name": "python3"
  },
  "language_info": {
   "codemirror_mode": {
    "name": "ipython",
    "version": 3
   },
   "file_extension": ".py",
   "mimetype": "text/x-python",
   "name": "python",
   "nbconvert_exporter": "python",
   "pygments_lexer": "ipython3",
   "version": "3.10.4"
  }
 },
 "nbformat": 4,
 "nbformat_minor": 5
}
