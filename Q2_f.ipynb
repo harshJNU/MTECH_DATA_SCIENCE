{
 "cells": [
  {
   "cell_type": "markdown",
   "id": "7197ff0d",
   "metadata": {},
   "source": [
    "# Find all the eigenpairs of A"
   ]
  },
  {
   "cell_type": "code",
   "execution_count": 1,
   "id": "672ca98e",
   "metadata": {},
   "outputs": [],
   "source": [
    "import numpy as np\n",
    "from numpy.linalg import eig"
   ]
  },
  {
   "cell_type": "code",
   "execution_count": 2,
   "id": "294c969d",
   "metadata": {},
   "outputs": [
    {
     "data": {
      "text/plain": [
       "array([[40, 35, 20],\n",
       "       [65, 25, 15],\n",
       "       [75, 83, 90]])"
      ]
     },
     "execution_count": 2,
     "metadata": {},
     "output_type": "execute_result"
    }
   ],
   "source": [
    "matrix=open(\"matrix.csv\")\n",
    "A=np.loadtxt(matrix, dtype='int', delimiter=',')\n",
    "A"
   ]
  },
  {
   "cell_type": "markdown",
   "id": "04986b01",
   "metadata": {},
   "source": [
    "# EIGEN VALUES"
   ]
  },
  {
   "cell_type": "code",
   "execution_count": 3,
   "id": "e06194ad",
   "metadata": {},
   "outputs": [],
   "source": [
    "EigenValues,EigenVector=eig(A)"
   ]
  },
  {
   "cell_type": "code",
   "execution_count": 4,
   "id": "874a1ad0",
   "metadata": {},
   "outputs": [
    {
     "name": "stdout",
     "output_type": "stream",
     "text": [
      "\n",
      " Eigen-value: \n",
      " [138.99946117 -13.40231423  29.40285306]\n"
     ]
    }
   ],
   "source": [
    "print(\"\\n Eigen-value: \\n\", EigenValues)"
   ]
  },
  {
   "cell_type": "markdown",
   "id": "1ec9775a",
   "metadata": {},
   "source": [
    "# EIGEN VECTOR"
   ]
  },
  {
   "cell_type": "code",
   "execution_count": 5,
   "id": "b75a74c8",
   "metadata": {},
   "outputs": [
    {
     "name": "stdout",
     "output_type": "stream",
     "text": [
      "\n",
      " E-vector \n",
      " [[ 0.28506783  0.40602799 -0.23059789]\n",
      " [ 0.28303553 -0.83356088 -0.42919669]\n",
      " [ 0.91576592  0.37458981  0.8732782 ]]\n"
     ]
    }
   ],
   "source": [
    "print(\"\\n E-vector \\n\", EigenVector)"
   ]
  }
 ],
 "metadata": {
  "kernelspec": {
   "display_name": "Python 3 (ipykernel)",
   "language": "python",
   "name": "python3"
  },
  "language_info": {
   "codemirror_mode": {
    "name": "ipython",
    "version": 3
   },
   "file_extension": ".py",
   "mimetype": "text/x-python",
   "name": "python",
   "nbconvert_exporter": "python",
   "pygments_lexer": "ipython3",
   "version": "3.10.4"
  }
 },
 "nbformat": 4,
 "nbformat_minor": 5
}
