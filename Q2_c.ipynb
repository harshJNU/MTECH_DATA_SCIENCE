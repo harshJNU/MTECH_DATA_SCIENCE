{
 "cells": [
  {
   "cell_type": "markdown",
   "id": "b33380d9",
   "metadata": {},
   "source": [
    "# Solve the equation Ax=b and check whether there are 0,1 or infinitely many solutions"
   ]
  },
  {
   "cell_type": "code",
   "execution_count": 1,
   "id": "d6ce9843",
   "metadata": {},
   "outputs": [],
   "source": [
    "import numpy as np\n",
    "import csv"
   ]
  },
  {
   "cell_type": "code",
   "execution_count": 2,
   "id": "f92ef411",
   "metadata": {},
   "outputs": [
    {
     "data": {
      "text/plain": [
       "array([[40, 35, 20],\n",
       "       [65, 25, 15],\n",
       "       [75, 83, 90]])"
      ]
     },
     "execution_count": 2,
     "metadata": {},
     "output_type": "execute_result"
    }
   ],
   "source": [
    "matrix=open(\"matrix.csv\")\n",
    "A1=np.loadtxt(matrix, dtype='int', delimiter=',')\n",
    "A1"
   ]
  },
  {
   "cell_type": "code",
   "execution_count": 3,
   "id": "83ac3509",
   "metadata": {},
   "outputs": [
    {
     "data": {
      "text/plain": [
       "array([ 9, 15, 25])"
      ]
     },
     "execution_count": 3,
     "metadata": {},
     "output_type": "execute_result"
    }
   ],
   "source": [
    "vector=open(\"vector b.csv\")\n",
    "B1=np.loadtxt(vector, dtype='int', delimiter=',')\n",
    "B1"
   ]
  },
  {
   "cell_type": "code",
   "execution_count": 4,
   "id": "bf8ad7e8",
   "metadata": {},
   "outputs": [
    {
     "name": "stdout",
     "output_type": "stream",
     "text": [
      "result : \n"
     ]
    },
    {
     "data": {
      "text/plain": [
       "array([ 0.23149247, -0.11821086,  0.19388407])"
      ]
     },
     "execution_count": 4,
     "metadata": {},
     "output_type": "execute_result"
    }
   ],
   "source": [
    "result=np.linalg.solve(A1,B1)\n",
    "print(\"result : \")\n",
    "result"
   ]
  }
 ],
 "metadata": {
  "kernelspec": {
   "display_name": "Python 3 (ipykernel)",
   "language": "python",
   "name": "python3"
  },
  "language_info": {
   "codemirror_mode": {
    "name": "ipython",
    "version": 3
   },
   "file_extension": ".py",
   "mimetype": "text/x-python",
   "name": "python",
   "nbconvert_exporter": "python",
   "pygments_lexer": "ipython3",
   "version": "3.10.4"
  }
 },
 "nbformat": 4,
 "nbformat_minor": 5
}
