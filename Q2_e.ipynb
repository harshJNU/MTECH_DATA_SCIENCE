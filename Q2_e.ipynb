{
 "cells": [
  {
   "cell_type": "markdown",
   "id": "503aa7d3",
   "metadata": {},
   "source": [
    "# Give exponential, sine and sigmoid functions on A"
   ]
  },
  {
   "cell_type": "code",
   "execution_count": 1,
   "id": "25209021",
   "metadata": {},
   "outputs": [],
   "source": [
    "import numpy as np  \n",
    "import csv\n",
    "from sympy import *"
   ]
  },
  {
   "cell_type": "code",
   "execution_count": 2,
   "id": "6ef850f5",
   "metadata": {},
   "outputs": [
    {
     "data": {
      "text/latex": [
       "$\\displaystyle \\left[\\begin{matrix}11 & 3 & 5\\\\6 & 8 & 9\\\\2 & 23 & 4\\end{matrix}\\right]$"
      ],
      "text/plain": [
       "Matrix([\n",
       "[11,  3, 5],\n",
       "[ 6,  8, 9],\n",
       "[ 2, 23, 4]])"
      ]
     },
     "execution_count": 2,
     "metadata": {},
     "output_type": "execute_result"
    }
   ],
   "source": [
    "matrix=open(\"matrix.csv\")\n",
    "A=np.loadtxt(matrix, dtype='int', delimiter=',')\n",
    "A1=Matrix(A)\n",
    "A1"
   ]
  },
  {
   "cell_type": "markdown",
   "id": "456b7981",
   "metadata": {},
   "source": [
    "# Exponential Function"
   ]
  },
  {
   "cell_type": "code",
   "execution_count": 3,
   "id": "51be1806",
   "metadata": {},
   "outputs": [
    {
     "name": "stdout",
     "output_type": "stream",
     "text": [
      "\n",
      " Exponential Value:\n",
      "[[5.98741417e+04 2.00855369e+01 1.48413159e+02]\n",
      " [4.03428793e+02 2.98095799e+03 8.10308393e+03]\n",
      " [7.38905610e+00 9.74480345e+09 5.45981500e+01]]\n"
     ]
    }
   ],
   "source": [
    "print(\"\\n Exponential Value:\")\n",
    "print(np.exp(A))"
   ]
  },
  {
   "cell_type": "markdown",
   "id": "915a6cf1",
   "metadata": {},
   "source": [
    "### Proper Matrix Format Output"
   ]
  },
  {
   "cell_type": "code",
   "execution_count": 4,
   "id": "112b6262",
   "metadata": {},
   "outputs": [
    {
     "data": {
      "text/latex": [
       "$\\displaystyle \\left[\\begin{matrix}59874.1417151978 & 20.0855369231877 & 148.413159102577\\\\403.428793492735 & 2980.95798704173 & 8103.08392757538\\\\7.38905609893065 & 9744803446.2489 & 54.5981500331442\\end{matrix}\\right]$"
      ],
      "text/plain": [
       "Matrix([\n",
       "[59874.1417151978, 20.0855369231877, 148.413159102577],\n",
       "[403.428793492735, 2980.95798704173, 8103.08392757538],\n",
       "[7.38905609893065,  9744803446.2489, 54.5981500331442]])"
      ]
     },
     "execution_count": 4,
     "metadata": {},
     "output_type": "execute_result"
    }
   ],
   "source": [
    "EXP1=Matrix(np.exp(A))\n",
    "EXP1"
   ]
  },
  {
   "cell_type": "markdown",
   "id": "d34da7cd",
   "metadata": {},
   "source": [
    "# Sine Function"
   ]
  },
  {
   "cell_type": "code",
   "execution_count": 5,
   "id": "3bee717f",
   "metadata": {},
   "outputs": [
    {
     "name": "stdout",
     "output_type": "stream",
     "text": [
      "\n",
      " Sine Value:\n",
      "[[0.190809   0.05233596 0.08715574]\n",
      " [0.10452846 0.1391731  0.15643447]\n",
      " [0.0348995  0.39073113 0.06975647]]\n"
     ]
    }
   ],
   "source": [
    "print(\"\\n Sine Value:\")\n",
    "print(np.sin(A * np.pi / 180))"
   ]
  },
  {
   "cell_type": "markdown",
   "id": "6af484f6",
   "metadata": {},
   "source": [
    "### Proper Matrix Format Output"
   ]
  },
  {
   "cell_type": "code",
   "execution_count": 6,
   "id": "34c84f15",
   "metadata": {},
   "outputs": [
    {
     "data": {
      "text/latex": [
       "$\\displaystyle \\left[\\begin{matrix}0.190808995376545 & 0.0523359562429438 & 0.0871557427476582\\\\0.104528463267653 & 0.139173100960065 & 0.156434465040231\\\\0.034899496702501 & 0.390731128489274 & 0.0697564737441253\\end{matrix}\\right]$"
      ],
      "text/plain": [
       "Matrix([\n",
       "[0.190808995376545, 0.0523359562429438, 0.0871557427476582],\n",
       "[0.104528463267653,  0.139173100960065,  0.156434465040231],\n",
       "[0.034899496702501,  0.390731128489274, 0.0697564737441253]])"
      ]
     },
     "execution_count": 6,
     "metadata": {},
     "output_type": "execute_result"
    }
   ],
   "source": [
    "SINE=Matrix(np.sin(A * np.pi / 180))\n",
    "SINE"
   ]
  },
  {
   "cell_type": "markdown",
   "id": "323db6b3",
   "metadata": {},
   "source": [
    "# Sigmoid Function"
   ]
  },
  {
   "cell_type": "code",
   "execution_count": 7,
   "id": "b30a898d",
   "metadata": {},
   "outputs": [
    {
     "name": "stdout",
     "output_type": "stream",
     "text": [
      "\n",
      " Sigmoid Value:\n",
      "[[0.9999833  0.95257413 0.99330715]\n",
      " [0.99752738 0.99966465 0.99987661]\n",
      " [0.88079708 1.         0.98201379]]\n"
     ]
    }
   ],
   "source": [
    "print(\"\\n Sigmoid Value:\")\n",
    "def sigmoid(x):\n",
    "    return 1.0 / (1.0 + np.exp(-x))\n",
    "\n",
    "print(sigmoid(A))"
   ]
  },
  {
   "cell_type": "markdown",
   "id": "fbe8fa7d",
   "metadata": {},
   "source": [
    "### Proper Matrix Format Output"
   ]
  },
  {
   "cell_type": "code",
   "execution_count": 8,
   "id": "5719d13d",
   "metadata": {},
   "outputs": [
    {
     "data": {
      "text/latex": [
       "$\\displaystyle \\left[\\begin{matrix}0.999983298578152 & 0.952574126822433 & 0.993307149075715\\\\0.997527376843365 & 0.999664649869534 & 0.999876605424014\\\\0.880797077977882 & 0.999999999897381 & 0.982013790037908\\end{matrix}\\right]$"
      ],
      "text/plain": [
       "Matrix([\n",
       "[0.999983298578152, 0.952574126822433, 0.993307149075715],\n",
       "[0.997527376843365, 0.999664649869534, 0.999876605424014],\n",
       "[0.880797077977882, 0.999999999897381, 0.982013790037908]])"
      ]
     },
     "execution_count": 8,
     "metadata": {},
     "output_type": "execute_result"
    }
   ],
   "source": [
    "SIG=Matrix(sigmoid(A))\n",
    "SIG"
   ]
  }
 ],
 "metadata": {
  "kernelspec": {
   "display_name": "Python 3 (ipykernel)",
   "language": "python",
   "name": "python3"
  },
  "language_info": {
   "codemirror_mode": {
    "name": "ipython",
    "version": 3
   },
   "file_extension": ".py",
   "mimetype": "text/x-python",
   "name": "python",
   "nbconvert_exporter": "python",
   "pygments_lexer": "ipython3",
   "version": "3.10.4"
  }
 },
 "nbformat": 4,
 "nbformat_minor": 5
}
