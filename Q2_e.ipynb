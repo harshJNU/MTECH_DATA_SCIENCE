{
 "cells": [
  {
   "cell_type": "markdown",
   "id": "503aa7d3",
   "metadata": {},
   "source": [
    "# Give exponential, sine and sigmoid functions on A"
   ]
  },
  {
   "cell_type": "code",
   "execution_count": 1,
   "id": "25209021",
   "metadata": {},
   "outputs": [],
   "source": [
    "import numpy as np  \n",
    "import csv"
   ]
  },
  {
   "cell_type": "code",
   "execution_count": 2,
   "id": "6ef850f5",
   "metadata": {},
   "outputs": [
    {
     "data": {
      "text/plain": [
       "array([[40, 35, 20],\n",
       "       [65, 25, 15],\n",
       "       [75, 83, 90]])"
      ]
     },
     "execution_count": 2,
     "metadata": {},
     "output_type": "execute_result"
    }
   ],
   "source": [
    "matrix=open(\"matrix.csv\")\n",
    "A=np.loadtxt(matrix, dtype='int', delimiter=',')\n",
    "A"
   ]
  },
  {
   "cell_type": "markdown",
   "id": "456b7981",
   "metadata": {},
   "source": [
    "# Exponential Function"
   ]
  },
  {
   "cell_type": "code",
   "execution_count": 3,
   "id": "51be1806",
   "metadata": {},
   "outputs": [
    {
     "name": "stdout",
     "output_type": "stream",
     "text": [
      "\n",
      " Exponential Value:\n",
      "[[2.35385267e+17 1.58601345e+15 4.85165195e+08]\n",
      " [1.69488924e+28 7.20048993e+10 3.26901737e+06]\n",
      " [3.73324200e+32 1.11286375e+36 1.22040329e+39]]\n"
     ]
    }
   ],
   "source": [
    "print(\"\\n Exponential Value:\")\n",
    "print(np.exp(A))"
   ]
  },
  {
   "cell_type": "markdown",
   "id": "d34da7cd",
   "metadata": {},
   "source": [
    "# Sine Function"
   ]
  },
  {
   "cell_type": "code",
   "execution_count": 4,
   "id": "3bee717f",
   "metadata": {},
   "outputs": [
    {
     "name": "stdout",
     "output_type": "stream",
     "text": [
      "\n",
      " Sine Value:\n",
      "[[0.64278761 0.57357644 0.34202014]\n",
      " [0.90630779 0.42261826 0.25881905]\n",
      " [0.96592583 0.99254615 1.        ]]\n"
     ]
    }
   ],
   "source": [
    "print(\"\\n Sine Value:\")\n",
    "print(np.sin(A * np.pi / 180))"
   ]
  },
  {
   "cell_type": "markdown",
   "id": "323db6b3",
   "metadata": {},
   "source": [
    "# Sigmoid Function"
   ]
  },
  {
   "cell_type": "code",
   "execution_count": 5,
   "id": "b30a898d",
   "metadata": {},
   "outputs": [
    {
     "name": "stdout",
     "output_type": "stream",
     "text": [
      "\n",
      " Sigmoid Value:\n",
      "[[1.         1.         1.        ]\n",
      " [1.         1.         0.99999969]\n",
      " [1.         1.         1.        ]]\n"
     ]
    }
   ],
   "source": [
    "print(\"\\n Sigmoid Value:\")\n",
    "def sigmoid(x):\n",
    "    return 1.0 / (1.0 + np.exp(-x))\n",
    "\n",
    "print(sigmoid(A))"
   ]
  }
 ],
 "metadata": {
  "kernelspec": {
   "display_name": "Python 3 (ipykernel)",
   "language": "python",
   "name": "python3"
  },
  "language_info": {
   "codemirror_mode": {
    "name": "ipython",
    "version": 3
   },
   "file_extension": ".py",
   "mimetype": "text/x-python",
   "name": "python",
   "nbconvert_exporter": "python",
   "pygments_lexer": "ipython3",
   "version": "3.10.4"
  }
 },
 "nbformat": 4,
 "nbformat_minor": 5
}
