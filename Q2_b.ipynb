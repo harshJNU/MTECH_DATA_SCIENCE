{
 "cells": [
  {
   "cell_type": "markdown",
   "id": "86f312ca",
   "metadata": {},
   "source": [
    "# Perform LU decomposition for square matrix"
   ]
  },
  {
   "cell_type": "code",
   "execution_count": 1,
   "id": "b8327b13",
   "metadata": {},
   "outputs": [],
   "source": [
    "import numpy as np\n",
    "import scipy.linalg as lg\n",
    "import csv"
   ]
  },
  {
   "cell_type": "code",
   "execution_count": 2,
   "id": "f581cfa4",
   "metadata": {},
   "outputs": [
    {
     "data": {
      "text/plain": [
       "array([[40, 35, 20],\n",
       "       [65, 25, 15],\n",
       "       [75, 83, 90]])"
      ]
     },
     "execution_count": 2,
     "metadata": {},
     "output_type": "execute_result"
    }
   ],
   "source": [
    "matrix=open(\"matrix.csv\")\n",
    "A=np.loadtxt(matrix, dtype='int', delimiter=',')\n",
    "A"
   ]
  },
  {
   "cell_type": "code",
   "execution_count": 3,
   "id": "b34c40ff",
   "metadata": {},
   "outputs": [],
   "source": [
    "P, L, U=lg.lu(A)"
   ]
  },
  {
   "cell_type": "code",
   "execution_count": 4,
   "id": "36a367a4",
   "metadata": {},
   "outputs": [
    {
     "name": "stdout",
     "output_type": "stream",
     "text": [
      " \n",
      " Lower Traingle:\n",
      "\n"
     ]
    },
    {
     "data": {
      "text/plain": [
       "array([[1.        , 0.        , 0.        ],\n",
       "       [0.86666667, 1.        , 0.        ],\n",
       "       [0.53333333, 0.19744318, 1.        ]])"
      ]
     },
     "execution_count": 4,
     "metadata": {},
     "output_type": "execute_result"
    }
   ],
   "source": [
    "print(\" \\n Lower Traingle:\\n\")\n",
    "L"
   ]
  },
  {
   "cell_type": "code",
   "execution_count": 5,
   "id": "2e2a8240",
   "metadata": {},
   "outputs": [
    {
     "name": "stdout",
     "output_type": "stream",
     "text": [
      " \n",
      " Upper Traingle:\n",
      "\n"
     ]
    },
    {
     "data": {
      "text/plain": [
       "array([[ 75.        ,  83.        ,  90.        ],\n",
       "       [  0.        , -46.93333333, -63.        ],\n",
       "       [  0.        ,   0.        , -15.56107955]])"
      ]
     },
     "execution_count": 5,
     "metadata": {},
     "output_type": "execute_result"
    }
   ],
   "source": [
    "print(\" \\n Upper Traingle:\\n\")\n",
    "U"
   ]
  },
  {
   "cell_type": "code",
   "execution_count": 6,
   "id": "5521328b",
   "metadata": {},
   "outputs": [],
   "source": [
    "decomposition=P.dot((L.dot(U)))"
   ]
  },
  {
   "cell_type": "code",
   "execution_count": 7,
   "id": "72b8e9f2",
   "metadata": {},
   "outputs": [
    {
     "name": "stdout",
     "output_type": "stream",
     "text": [
      "\n",
      " After LU decomposition, Original matrix is given below: \n",
      "\n"
     ]
    },
    {
     "data": {
      "text/plain": [
       "array([[40., 35., 20.],\n",
       "       [65., 25., 15.],\n",
       "       [75., 83., 90.]])"
      ]
     },
     "execution_count": 7,
     "metadata": {},
     "output_type": "execute_result"
    }
   ],
   "source": [
    "print(\"\\n After LU decomposition, Original matrix is given below: \\n\")\n",
    "decomposition"
   ]
  }
 ],
 "metadata": {
  "kernelspec": {
   "display_name": "Python 3 (ipykernel)",
   "language": "python",
   "name": "python3"
  },
  "language_info": {
   "codemirror_mode": {
    "name": "ipython",
    "version": 3
   },
   "file_extension": ".py",
   "mimetype": "text/x-python",
   "name": "python",
   "nbconvert_exporter": "python",
   "pygments_lexer": "ipython3",
   "version": "3.10.4"
  }
 },
 "nbformat": 4,
 "nbformat_minor": 5
}
