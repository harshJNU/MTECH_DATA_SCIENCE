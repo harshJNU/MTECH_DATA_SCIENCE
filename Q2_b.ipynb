{
 "cells": [
  {
   "cell_type": "markdown",
   "id": "86f312ca",
   "metadata": {},
   "source": [
    "# Perform LU decomposition for square matrix"
   ]
  },
  {
   "cell_type": "code",
   "execution_count": 1,
   "id": "b8327b13",
   "metadata": {},
   "outputs": [],
   "source": [
    "import numpy as np\n",
    "import scipy.linalg as lg\n",
    "import csv\n",
    "from sympy import *"
   ]
  },
  {
   "cell_type": "code",
   "execution_count": 2,
   "id": "f581cfa4",
   "metadata": {},
   "outputs": [
    {
     "data": {
      "text/latex": [
       "$\\displaystyle \\left[\\begin{matrix}11 & 3 & 5\\\\6 & 8 & 9\\\\2 & 23 & 4\\end{matrix}\\right]$"
      ],
      "text/plain": [
       "Matrix([\n",
       "[11,  3, 5],\n",
       "[ 6,  8, 9],\n",
       "[ 2, 23, 4]])"
      ]
     },
     "execution_count": 2,
     "metadata": {},
     "output_type": "execute_result"
    }
   ],
   "source": [
    "matrix=open(\"matrix.csv\")\n",
    "A=Matrix(np.loadtxt(matrix, dtype='int', delimiter=','))\n",
    "A"
   ]
  },
  {
   "cell_type": "code",
   "execution_count": 3,
   "id": "b34c40ff",
   "metadata": {},
   "outputs": [],
   "source": [
    "P, L, U=lg.lu(A)"
   ]
  },
  {
   "cell_type": "code",
   "execution_count": 4,
   "id": "36a367a4",
   "metadata": {},
   "outputs": [
    {
     "name": "stdout",
     "output_type": "stream",
     "text": [
      " \n",
      " Lower Traingle:\n",
      "\n"
     ]
    },
    {
     "data": {
      "text/latex": [
       "$\\displaystyle \\left[\\begin{matrix}1.0 & 0 & 0\\\\0.181818181818182 & 1.0 & 0\\\\0.545454545454545 & 0.283400809716599 & 1.0\\end{matrix}\\right]$"
      ],
      "text/plain": [
       "Matrix([\n",
       "[              1.0,                 0,   0],\n",
       "[0.181818181818182,               1.0,   0],\n",
       "[0.545454545454545, 0.283400809716599, 1.0]])"
      ]
     },
     "execution_count": 4,
     "metadata": {},
     "output_type": "execute_result"
    }
   ],
   "source": [
    "print(\" \\n Lower Traingle:\\n\")\n",
    "L1=Matrix(L)\n",
    "L1"
   ]
  },
  {
   "cell_type": "code",
   "execution_count": 5,
   "id": "2e2a8240",
   "metadata": {},
   "outputs": [
    {
     "name": "stdout",
     "output_type": "stream",
     "text": [
      " \n",
      " Upper Traingle:\n",
      "\n"
     ]
    },
    {
     "data": {
      "text/latex": [
       "$\\displaystyle \\left[\\begin{matrix}11.0 & 3.0 & 5.0\\\\0 & 22.4545454545455 & 3.09090909090909\\\\0 & 0 & 5.39676113360324\\end{matrix}\\right]$"
      ],
      "text/plain": [
       "Matrix([\n",
       "[11.0,              3.0,              5.0],\n",
       "[   0, 22.4545454545455, 3.09090909090909],\n",
       "[   0,                0, 5.39676113360324]])"
      ]
     },
     "execution_count": 5,
     "metadata": {},
     "output_type": "execute_result"
    }
   ],
   "source": [
    "print(\" \\n Upper Traingle:\\n\")\n",
    "U1=Matrix(U)\n",
    "U1"
   ]
  },
  {
   "cell_type": "code",
   "execution_count": 6,
   "id": "5521328b",
   "metadata": {},
   "outputs": [],
   "source": [
    "decomposition=P.dot((L.dot(U)))"
   ]
  },
  {
   "cell_type": "code",
   "execution_count": 7,
   "id": "72b8e9f2",
   "metadata": {},
   "outputs": [
    {
     "name": "stdout",
     "output_type": "stream",
     "text": [
      "\n",
      " After LU decomposition, Original matrix is given below: \n",
      "\n"
     ]
    },
    {
     "data": {
      "text/latex": [
       "$\\displaystyle \\left[\\begin{matrix}11.0 & 3.0 & 5.0\\\\6.0 & 8.0 & 9.0\\\\2.0 & 23.0 & 4.0\\end{matrix}\\right]$"
      ],
      "text/plain": [
       "Matrix([\n",
       "[11.0,  3.0, 5.0],\n",
       "[ 6.0,  8.0, 9.0],\n",
       "[ 2.0, 23.0, 4.0]])"
      ]
     },
     "execution_count": 7,
     "metadata": {},
     "output_type": "execute_result"
    }
   ],
   "source": [
    "print(\"\\n After LU decomposition, Original matrix is given below: \\n\")\n",
    "d1=Matrix(decomposition)\n",
    "d1"
   ]
  }
 ],
 "metadata": {
  "kernelspec": {
   "display_name": "Python 3 (ipykernel)",
   "language": "python",
   "name": "python3"
  },
  "language_info": {
   "codemirror_mode": {
    "name": "ipython",
    "version": 3
   },
   "file_extension": ".py",
   "mimetype": "text/x-python",
   "name": "python",
   "nbconvert_exporter": "python",
   "pygments_lexer": "ipython3",
   "version": "3.10.4"
  }
 },
 "nbformat": 4,
 "nbformat_minor": 5
}
